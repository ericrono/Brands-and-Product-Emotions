{
 "cells": [
  {
   "cell_type": "markdown",
   "metadata": {},
   "source": [
    "## BRANDS AND PRODUCTS EMOTIONS "
   ]
  },
  {
   "cell_type": "markdown",
   "metadata": {},
   "source": [
    "\n",
    "**Business Problem:**\n",
    "\n",
    "In an era dominated by social media, brands must continuously track customer sentiments expressed online. Twitter, in particular, has become a critical platform where users voice their opinions about products and brands. However, the vast volume and rapid pace of tweets make it impractical for businesses to manually analyze these opinions for insights. To address this, a Natural Language Processing (NLP) model needs to be developed to automatically classify the sentiment of tweets and determine which brand or product is the target of those sentiments.\n",
    "\n",
    "The dataset from CrowdFlower includes over 9,000 tweets that have been evaluated for sentiment (positive, negative, or neutral) and tagged with the associated brand or product. The goal is to build an NLP model that can accurately and efficiently:\n",
    "\n",
    "1. **Classify Sentiments**: Identify whether a tweet expresses positive, negative, or no emotion.\n",
    "2. **Identify Brand/Product**: Recognize which brand or product is being referred to in the tweet.\n",
    "3. **Handle Ambiguity**: Deal with tweets that might reference multiple brands or unclear sentiments.\n",
    "\n",
    "Key challenges include:\n",
    "\n",
    "- **Textual Variations**: Dealing with informal language, abbreviations, emojis, and slang used on social media.\n",
    "- **Context Understanding**: Ensuring the model understands subtle and implicit expressions of sentiment.\n",
    "- **Real-Time Processing**: Building a scalable solution that can process large volumes of data in real time for timely insights.\n",
    "\n",
    "Solving this problem will help brands enhance their reputation management, respond promptly to consumer feedback, and optimize their marketing strategies based on real-time sentiment analysis.\n",
    "\n"
   ]
  },
  {
   "cell_type": "markdown",
   "metadata": {},
   "source": [
    "## Overview:"
   ]
  },
  {
   "cell_type": "markdown",
   "metadata": {},
   "source": [
    "\n",
    "**Data Understanding:**\n",
    "\n",
    "The dataset provided contains 9,093 rows of tweet evaluations, focusing on tweets mentioning various brands and products. The data was crowdsourced, with contributors being asked to assess whether a tweet conveyed positive, negative, or no emotion towards a brand or product. If an emotion was expressed, the contributors were further asked to identify the specific brand or product being referred to.\n",
    "\n",
    "### Key Features of the Data:\n",
    "1. **Tweet Text**: This contains the actual text of the tweet, which is the main input for sentiment analysis and brand/product identification.\n",
    "2. **Emotion Label**: Indicates whether the tweet expresses:\n",
    "   - Positive sentiment\n",
    "   - Negative sentiment\n",
    "   - No sentiment (neutral)\n",
    "3. **Brand/Product Label**: Identifies the brand or product that is the subject of the expressed emotion (if applicable). Some tweets may not reference a brand/product, especially those classified as neutral.\n",
    "4. **Contributor Annotations**: Information about how the tweet was classified by different crowd contributors, which might provide insights into the subjectivity of sentiment classification.\n",
    "\n",
    "### Data Considerations:\n",
    "- **Textual Noise**: As the dataset is composed of tweets, the text may contain slang, abbreviations, misspellings, and non-standard grammar typical of social media posts. Tweets may also include emojis and special characters, which need to be handled properly during data preprocessing.\n",
    "- **Imbalanced Sentiment Distribution**: There may be a natural imbalance in the data, with more tweets being neutral or expressing positive emotions than negative ones. This imbalance could affect the performance of a sentiment classifier and should be considered during model training.\n",
    "- **Ambiguous Sentiments**: Some tweets may contain conflicting signals, such as sarcasm or mixed emotions, making it difficult to assign a clear sentiment. The crowdsource annotations may reflect this ambiguity in some cases.\n",
    "- **Multilabel Outputs**: A single tweet could reference multiple brands or products. The model needs to account for the possibility of multiple correct labels for brand/product identification.\n",
    "- **Contributor Discrepancies**: Since sentiment is subjective, different contributors may have classified the same tweet differently. Understanding and resolving these discrepancies will be crucial to ensure the accuracy of the model’s training data.\n",
    "\n",
    "### Data Exploration Goals:\n",
    "1. **Sentiment Distribution**: Examine the distribution of positive, negative, and neutral tweets to understand the balance of sentiments in the data.\n",
    "2. **Brand/Product Mentions**: Explore how many distinct brands or products are mentioned and the frequency of mentions for each brand or product.\n",
    "3. **Textual Characteristics**: Investigate the average length of tweets, frequency of common words, use of emojis, and presence of hashtags or mentions. This will help tailor preprocessing steps.\n",
    "4. **Annotator Agreement**: Check how often annotators agreed on the sentiment or brand/product for each tweet, as this might highlight instances of ambiguity or disagreement.\n",
    "\n",
    "By understanding the structure and challenges of the data, we can ensure that the subsequent steps in the NLP model development process, such as preprocessing, feature engineering, and model selection, are tailored to the characteristics of the dataset.\n",
    "\n",
    "\n",
    "**Data source:** https://data.world/crowdflower/brands-and-product-emotions"
   ]
  },
  {
   "cell_type": "markdown",
   "metadata": {},
   "source": [
    "# Step 1: import necessary libraries"
   ]
  },
  {
   "cell_type": "code",
   "execution_count": 49,
   "metadata": {},
   "outputs": [],
   "source": [
    "import pandas as pd\n",
    "import numpy as np\n",
    "import matplotlib.pyplot as plt\n",
    "import seaborn as sns\n",
    "\n",
    "import nltk\n",
    "from nltk.tokenize import RegexpTokenizer, TweetTokenizer\n",
    "from nltk.corpus import stopwords\n",
    "from nltk.stem import WordNetLemmatizer\n",
    "import re\n",
    "\n",
    "from sklearn.model_selection import train_test_split, cross_validate\n",
    "from numpy import array\n",
    "from sklearn.feature_extraction.text import CountVectorizer, TfidfVectorizer\n",
    "from sklearn.preprocessing import StandardScaler\n",
    "from sklearn.decomposition import PCA\n",
    "from sklearn.naive_bayes import MultinomialNB\n",
    "from catboost import CatBoostClassifier\n",
    "from sklearn.linear_model import LogisticRegression\n",
    "from sklearn.pipeline import Pipeline\n",
    "\n",
    "# TensorFlow and Keras imports using tensorflow.keras namespace\n",
    "from tensorflow import keras\n",
    "from tensorflow.keras import regularizers, layers\n",
    "from tensorflow.keras.preprocessing.sequence import pad_sequences\n",
    "from tensorflow.keras.models import Sequential\n",
    "from tensorflow.keras.layers import Activation, Dropout, Dense, Flatten, Embedding\n"
   ]
  },
  {
   "cell_type": "code",
   "execution_count": 50,
   "metadata": {},
   "outputs": [
    {
     "data": {
      "text/html": [
       "<div>\n",
       "<style scoped>\n",
       "    .dataframe tbody tr th:only-of-type {\n",
       "        vertical-align: middle;\n",
       "    }\n",
       "\n",
       "    .dataframe tbody tr th {\n",
       "        vertical-align: top;\n",
       "    }\n",
       "\n",
       "    .dataframe thead th {\n",
       "        text-align: right;\n",
       "    }\n",
       "</style>\n",
       "<table border=\"1\" class=\"dataframe\">\n",
       "  <thead>\n",
       "    <tr style=\"text-align: right;\">\n",
       "      <th></th>\n",
       "      <th>tweet_text</th>\n",
       "      <th>emotion_in_tweet_is_directed_at</th>\n",
       "      <th>is_there_an_emotion_directed_at_a_brand_or_product</th>\n",
       "    </tr>\n",
       "  </thead>\n",
       "  <tbody>\n",
       "    <tr>\n",
       "      <th>0</th>\n",
       "      <td>.@wesley83 I have a 3G iPhone. After 3 hrs twe...</td>\n",
       "      <td>iPhone</td>\n",
       "      <td>Negative emotion</td>\n",
       "    </tr>\n",
       "    <tr>\n",
       "      <th>1</th>\n",
       "      <td>@jessedee Know about @fludapp ? Awesome iPad/i...</td>\n",
       "      <td>iPad or iPhone App</td>\n",
       "      <td>Positive emotion</td>\n",
       "    </tr>\n",
       "    <tr>\n",
       "      <th>2</th>\n",
       "      <td>@swonderlin Can not wait for #iPad 2 also. The...</td>\n",
       "      <td>iPad</td>\n",
       "      <td>Positive emotion</td>\n",
       "    </tr>\n",
       "    <tr>\n",
       "      <th>3</th>\n",
       "      <td>@sxsw I hope this year's festival isn't as cra...</td>\n",
       "      <td>iPad or iPhone App</td>\n",
       "      <td>Negative emotion</td>\n",
       "    </tr>\n",
       "    <tr>\n",
       "      <th>4</th>\n",
       "      <td>@sxtxstate great stuff on Fri #SXSW: Marissa M...</td>\n",
       "      <td>Google</td>\n",
       "      <td>Positive emotion</td>\n",
       "    </tr>\n",
       "    <tr>\n",
       "      <th>...</th>\n",
       "      <td>...</td>\n",
       "      <td>...</td>\n",
       "      <td>...</td>\n",
       "    </tr>\n",
       "    <tr>\n",
       "      <th>9088</th>\n",
       "      <td>Ipad everywhere. #SXSW {link}</td>\n",
       "      <td>iPad</td>\n",
       "      <td>Positive emotion</td>\n",
       "    </tr>\n",
       "    <tr>\n",
       "      <th>9089</th>\n",
       "      <td>Wave, buzz... RT @mention We interrupt your re...</td>\n",
       "      <td>NaN</td>\n",
       "      <td>No emotion toward brand or product</td>\n",
       "    </tr>\n",
       "    <tr>\n",
       "      <th>9090</th>\n",
       "      <td>Google's Zeiger, a physician never reported po...</td>\n",
       "      <td>NaN</td>\n",
       "      <td>No emotion toward brand or product</td>\n",
       "    </tr>\n",
       "    <tr>\n",
       "      <th>9091</th>\n",
       "      <td>Some Verizon iPhone customers complained their...</td>\n",
       "      <td>NaN</td>\n",
       "      <td>No emotion toward brand or product</td>\n",
       "    </tr>\n",
       "    <tr>\n",
       "      <th>9092</th>\n",
       "      <td>Ï¡Ïàü_ÊÎÒ£Áââ_£â_ÛâRT @...</td>\n",
       "      <td>NaN</td>\n",
       "      <td>No emotion toward brand or product</td>\n",
       "    </tr>\n",
       "  </tbody>\n",
       "</table>\n",
       "<p>9093 rows × 3 columns</p>\n",
       "</div>"
      ],
      "text/plain": [
       "                                             tweet_text  \\\n",
       "0     .@wesley83 I have a 3G iPhone. After 3 hrs twe...   \n",
       "1     @jessedee Know about @fludapp ? Awesome iPad/i...   \n",
       "2     @swonderlin Can not wait for #iPad 2 also. The...   \n",
       "3     @sxsw I hope this year's festival isn't as cra...   \n",
       "4     @sxtxstate great stuff on Fri #SXSW: Marissa M...   \n",
       "...                                                 ...   \n",
       "9088                      Ipad everywhere. #SXSW {link}   \n",
       "9089  Wave, buzz... RT @mention We interrupt your re...   \n",
       "9090  Google's Zeiger, a physician never reported po...   \n",
       "9091  Some Verizon iPhone customers complained their...   \n",
       "9092  Ï¡Ïàü_ÊÎÒ£Áââ_£â_ÛâRT @...   \n",
       "\n",
       "     emotion_in_tweet_is_directed_at  \\\n",
       "0                             iPhone   \n",
       "1                 iPad or iPhone App   \n",
       "2                               iPad   \n",
       "3                 iPad or iPhone App   \n",
       "4                             Google   \n",
       "...                              ...   \n",
       "9088                            iPad   \n",
       "9089                             NaN   \n",
       "9090                             NaN   \n",
       "9091                             NaN   \n",
       "9092                             NaN   \n",
       "\n",
       "     is_there_an_emotion_directed_at_a_brand_or_product  \n",
       "0                                      Negative emotion  \n",
       "1                                      Positive emotion  \n",
       "2                                      Positive emotion  \n",
       "3                                      Negative emotion  \n",
       "4                                      Positive emotion  \n",
       "...                                                 ...  \n",
       "9088                                   Positive emotion  \n",
       "9089                 No emotion toward brand or product  \n",
       "9090                 No emotion toward brand or product  \n",
       "9091                 No emotion toward brand or product  \n",
       "9092                 No emotion toward brand or product  \n",
       "\n",
       "[9093 rows x 3 columns]"
      ]
     },
     "execution_count": 50,
     "metadata": {},
     "output_type": "execute_result"
    }
   ],
   "source": [
    "#load the dataset\n",
    "df = pd.read_csv('judge-1377884607_tweet_product_company.csv', encoding = 'unicode_escape')\n",
    "df"
   ]
  },
  {
   "cell_type": "code",
   "execution_count": 51,
   "metadata": {},
   "outputs": [
    {
     "name": "stdout",
     "output_type": "stream",
     "text": [
      "                                               Tweet             Product  \\\n",
      "0  .@wesley83 I have a 3G iPhone. After 3 hrs twe...              iPhone   \n",
      "1  @jessedee Know about @fludapp ? Awesome iPad/i...  iPad or iPhone App   \n",
      "2  @swonderlin Can not wait for #iPad 2 also. The...                iPad   \n",
      "3  @sxsw I hope this year's festival isn't as cra...  iPad or iPhone App   \n",
      "4  @sxtxstate great stuff on Fri #SXSW: Marissa M...              Google   \n",
      "\n",
      "          Sentiment  \n",
      "0  Negative emotion  \n",
      "1  Positive emotion  \n",
      "2  Positive emotion  \n",
      "3  Negative emotion  \n",
      "4  Positive emotion  \n"
     ]
    }
   ],
   "source": [
    "# Letas change our our names for easier reading, the columns are so long./\n",
    "df = df.rename(columns={\n",
    "    'tweet_text': 'Tweet',\n",
    "    'emotion_in_tweet_is_directed_at': 'Product',\n",
    "    'is_there_an_emotion_directed_at_a_brand_or_product': 'Sentiment'\n",
    "})\n",
    "\n",
    "# Display the renamed DataFrame to verify the changes\n",
    "print(df.head())"
   ]
  },
  {
   "cell_type": "code",
   "execution_count": 52,
   "metadata": {},
   "outputs": [
    {
     "name": "stdout",
     "output_type": "stream",
     "text": [
      "<class 'pandas.core.frame.DataFrame'>\n",
      "RangeIndex: 9093 entries, 0 to 9092\n",
      "Data columns (total 3 columns):\n",
      " #   Column     Non-Null Count  Dtype \n",
      "---  ------     --------------  ----- \n",
      " 0   Tweet      9092 non-null   object\n",
      " 1   Product    3291 non-null   object\n",
      " 2   Sentiment  9093 non-null   object\n",
      "dtypes: object(3)\n",
      "memory usage: 213.2+ KB\n",
      "None\n",
      "--------------------\n",
      "Total duplicated rows\n",
      "22\n",
      "--------------------\n",
      "Total null values\n",
      "Tweet           1\n",
      "Product      5802\n",
      "Sentiment       0\n",
      "dtype: int64\n"
     ]
    }
   ],
   "source": [
    "\n",
    "#looking at data, duplicates and null valuesprint\n",
    "def data_summary(df):\n",
    "    # Print the DataFrame info\n",
    "    print(df.info())\n",
    "    print((\"-\" * 20))\n",
    "    \n",
    "    # Print the total number of duplicated rows\n",
    "    print('Total duplicated rows')\n",
    "    print(df.duplicated().sum())\n",
    "    print((\"-\" * 20))\n",
    "    \n",
    "    # Print the total number of null values in each column\n",
    "    print('Total null values')\n",
    "    print(df.isna().sum())\n",
    "data_summary(df)\n"
   ]
  },
  {
   "cell_type": "code",
   "execution_count": 53,
   "metadata": {},
   "outputs": [
    {
     "data": {
      "text/plain": [
       "Sentiment\n",
       "No emotion toward brand or product    5389\n",
       "Positive emotion                      2978\n",
       "Negative emotion                       570\n",
       "I can't tell                           156\n",
       "Name: count, dtype: int64"
      ]
     },
     "execution_count": 53,
     "metadata": {},
     "output_type": "execute_result"
    }
   ],
   "source": [
    "#sentiment breakdown\n",
    "df['Sentiment'].value_counts() "
   ]
  },
  {
   "cell_type": "markdown",
   "metadata": {},
   "source": [
    "The value counts in the sentiment columns has four value counts with the highest being No emotion towards a brand or product having 5389. the lowest is i can't tell with 156. Both positve and Negative have 2978 and 570 respetively.\n",
    "\n",
    "we will simplify the sentiment column to be either positive, no emotion/neutral or negative"
   ]
  },
  {
   "cell_type": "code",
   "execution_count": 54,
   "metadata": {},
   "outputs": [],
   "source": [
    "#Simplify sentiment labels for visualizations\n",
    "dict_sent = {'No emotion toward brand or product':\"No emotion\", \n",
    "             'Positive emotion':'Positive emotion',\n",
    "             'Negative emotion':'Negative emotion',\n",
    "             \"I can't tell\": \"I can't tell\"}\n",
    "df['Sentiment'] = df['Sentiment'].map(dict_sent)"
   ]
  },
  {
   "cell_type": "code",
   "execution_count": 55,
   "metadata": {},
   "outputs": [
    {
     "data": {
      "text/plain": [
       "Sentiment\n",
       "No emotion          5389\n",
       "Positive emotion    2978\n",
       "Negative emotion     570\n",
       "I can't tell         156\n",
       "Name: count, dtype: int64"
      ]
     },
     "execution_count": 55,
     "metadata": {},
     "output_type": "execute_result"
    }
   ],
   "source": [
    "#sentiment breakdown\n",
    "df['Sentiment'].value_counts() "
   ]
  },
  {
   "cell_type": "code",
   "execution_count": 57,
   "metadata": {},
   "outputs": [
    {
     "data": {
      "text/plain": [
       "Product\n",
       "iPad                               946\n",
       "Apple                              661\n",
       "iPad or iPhone App                 470\n",
       "Google                             430\n",
       "iPhone                             297\n",
       "Other Google product or service    293\n",
       "Android App                         81\n",
       "Android                             78\n",
       "Other Apple product or service      35\n",
       "Name: count, dtype: int64"
      ]
     },
     "execution_count": 57,
     "metadata": {},
     "output_type": "execute_result"
    }
   ],
   "source": [
    "df['Product'].value_counts()\n"
   ]
  },
  {
   "cell_type": "code",
   "execution_count": null,
   "metadata": {},
   "outputs": [],
   "source": []
  }
 ],
 "metadata": {
  "kernelspec": {
   "display_name": "base",
   "language": "python",
   "name": "python3"
  },
  "language_info": {
   "codemirror_mode": {
    "name": "ipython",
    "version": 3
   },
   "file_extension": ".py",
   "mimetype": "text/x-python",
   "name": "python",
   "nbconvert_exporter": "python",
   "pygments_lexer": "ipython3",
   "version": "3.12.4"
  }
 },
 "nbformat": 4,
 "nbformat_minor": 2
}
